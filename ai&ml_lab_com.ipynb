{
  "nbformat": 4,
  "nbformat_minor": 0,
  "metadata": {
    "colab": {
      "provenance": [],
      "authorship_tag": "ABX9TyMfTaVrMf+ut4s0HoI6meMQ",
      "include_colab_link": true
    },
    "kernelspec": {
      "name": "python3",
      "display_name": "Python 3"
    },
    "language_info": {
      "name": "python"
    }
  },
  "cells": [
    {
      "cell_type": "markdown",
      "metadata": {
        "id": "view-in-github",
        "colab_type": "text"
      },
      "source": [
        "<a href=\"https://colab.research.google.com/github/vamshi16p/vamshi/blob/main/ai%26ml_lab_com.ipynb\" target=\"_parent\"><img src=\"https://colab.research.google.com/assets/colab-badge.svg\" alt=\"Open In Colab\"/></a>"
      ]
    },
    {
      "cell_type": "code",
      "execution_count": null,
      "metadata": {
        "id": "PAIQ4h0f7-E1"
      },
      "outputs": [],
      "source": [
        "import numpy as np\n",
        "a=[1,3,4,5]\n",
        "a1=[3,4,5,6]\n",
        "b=np.array(a)\n",
        "b1=np.array(a1)\n",
        "print(\"1.lists\",a)\n",
        "print(\"2.array\",b)\n",
        "print(\"3.type\",type(a))\n",
        "print(\"4.type\",type(b))\n",
        "#mulplication\n",
        "print(\"5.mulpication\",b*2)\n",
        "#division\n",
        "print(\"6.division\",b/2)\n",
        "#poweroff\n",
        "print(\"7.poweroff\",b**2)\n",
        "#addition\n",
        "print(\"8.addition of two array\",b+b1)\n",
        "#sin,log,exponicial\n",
        "print(\"9.sin\",np.sin(b))\n",
        "print(\"10.log\",np.log(b))\n",
        "print(\"11.log2\",np.log2(b))\n",
        "print(\"12.exp\",np.exp(b))"
      ]
    }
  ]
}